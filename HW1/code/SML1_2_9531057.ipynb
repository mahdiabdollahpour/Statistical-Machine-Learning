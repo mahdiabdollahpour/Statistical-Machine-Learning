{
 "cells": [
  {
   "cell_type": "code",
   "execution_count": 4,
   "metadata": {},
   "outputs": [
    {
     "name": "stdout",
     "output_type": "stream",
     "text": [
      "X: 1 , np: 3.0 , n: 10 , p: 0.3\n",
      "X: 38 , np: 30.0 , n: 100 , p: 0.3\n",
      "X: 296 , np: 300.0 , n: 1000 , p: 0.3\n"
     ]
    }
   ],
   "source": [
    "# Question 2\n",
    "\n",
    "import random\n",
    "import matplotlib.pyplot as plt\n",
    "import math\n",
    "import numpy as np\n",
    "\n",
    "p = 0.3\n",
    "n = 10\n",
    "res = []\n",
    "X = 0\n",
    "for i in range (n):\n",
    "    r = random.random()\n",
    "    if r<=p:\n",
    "        X+=1\n",
    "print(\"X:\",X,\", np:\",n*p,', n:',n,\", p:\",p)\n",
    "p = 0.3\n",
    "n = 100\n",
    "res = []\n",
    "X = 0\n",
    "for i in range (n):\n",
    "    r = random.random()\n",
    "    if r<=p:\n",
    "        X+=1\n",
    "print(\"X:\",X,\", np:\",n*p,', n:',n,\", p:\",p)\n",
    "p = 0.3\n",
    "n = 1000\n",
    "res = []\n",
    "X = 0\n",
    "for i in range (n):\n",
    "    r = random.random()\n",
    "    if r<=p:\n",
    "        X+=1\n",
    "print(\"X:\",X,\", np:\",n*p,', n:',n,\", p:\",p)"
   ]
  },
  {
   "cell_type": "code",
   "execution_count": null,
   "metadata": {},
   "outputs": [],
   "source": []
  }
 ],
 "metadata": {
  "kernelspec": {
   "display_name": "Python 3",
   "language": "python",
   "name": "python3"
  },
  "language_info": {
   "codemirror_mode": {
    "name": "ipython",
    "version": 3
   },
   "file_extension": ".py",
   "mimetype": "text/x-python",
   "name": "python",
   "nbconvert_exporter": "python",
   "pygments_lexer": "ipython3",
   "version": "3.6.4"
  }
 },
 "nbformat": 4,
 "nbformat_minor": 2
}
