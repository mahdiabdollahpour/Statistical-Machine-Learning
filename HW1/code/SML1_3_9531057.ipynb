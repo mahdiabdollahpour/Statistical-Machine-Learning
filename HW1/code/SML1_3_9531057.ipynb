{
 "cells": [
  {
   "cell_type": "code",
   "execution_count": 2,
   "metadata": {},
   "outputs": [
    {
     "name": "stdout",
     "output_type": "stream",
     "text": [
      "A [2, 4, 6]\n",
      "B [1, 2, 3, 4]\n",
      "P(A) = 0.484\n",
      "P(B) = 0.665\n",
      "P(A) * P(B) = 0.32186\n",
      "P(AB) = 0.314\n",
      "----------------------------\n",
      "A [2, 4]\n",
      "B [2, 3, 4]\n",
      "P(A) = 0.336\n",
      "P(B) = 0.498\n",
      "P(A) * P(B) = 0.167328\n",
      "P(AB) = 0.336\n"
     ]
    }
   ],
   "source": [
    "# Question 3\n",
    "\n",
    "import random\n",
    "import matplotlib.pyplot as plt\n",
    "import math\n",
    "import numpy as np\n",
    "\n",
    "n = 1000\n",
    "A = 0\n",
    "Aset = [2,4,6]\n",
    "Bset = [1,2,3,4]\n",
    "B = 0\n",
    "AB = 0\n",
    "for i in range(n):\n",
    "    r = math.floor( random.random() * 6 ) + 1\n",
    "    if r in Aset:\n",
    "        A+=1\n",
    "    if r in Bset:\n",
    "        B+=1\n",
    "    if r in Aset and r in Bset:\n",
    "        AB+=1\n",
    "print(\"A\",Aset)\n",
    "print(\"B\",Bset)\n",
    "print(\"P(A) =\",A/n)\n",
    "print(\"P(B) =\",B/n)\n",
    "print(\"P(A) * P(B) =\", (A*B)/(n*n))\n",
    "print(\"P(AB) =\",AB/n)\n",
    "\n",
    "\n",
    "print(\"----------------------------\")\n",
    "\n",
    "\n",
    "A = 0\n",
    "Aset = [2,4]\n",
    "Bset = [2,3,4]\n",
    "B = 0\n",
    "AB = 0\n",
    "for i in range(n):\n",
    "    r = math.floor( random.random() * 6 ) + 1\n",
    "    if r in Aset:\n",
    "        A+=1\n",
    "    if r in Bset:\n",
    "        B+=1\n",
    "    if r in Aset and r in Bset:\n",
    "        AB+=1\n",
    "print(\"A\",Aset)\n",
    "print(\"B\",Bset)\n",
    "print(\"P(A) =\",A/n)\n",
    "print(\"P(B) =\",B/n)\n",
    "print(\"P(A) * P(B) =\", (A*B)/(n*n))\n",
    "print(\"P(AB) =\",AB/n)\n",
    "\n",
    "        "
   ]
  },
  {
   "cell_type": "code",
   "execution_count": null,
   "metadata": {},
   "outputs": [],
   "source": []
  }
 ],
 "metadata": {
  "kernelspec": {
   "display_name": "Python 3",
   "language": "python",
   "name": "python3"
  },
  "language_info": {
   "codemirror_mode": {
    "name": "ipython",
    "version": 3
   },
   "file_extension": ".py",
   "mimetype": "text/x-python",
   "name": "python",
   "nbconvert_exporter": "python",
   "pygments_lexer": "ipython3",
   "version": "3.6.4"
  }
 },
 "nbformat": 4,
 "nbformat_minor": 2
}
