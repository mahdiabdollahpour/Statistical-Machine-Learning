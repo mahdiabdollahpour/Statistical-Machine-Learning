{
 "cells": [
  {
   "cell_type": "code",
   "execution_count": 5,
   "metadata": {},
   "outputs": [
    {
     "data": {
      "image/png": "[encoded data removed]",
      "text/plain": [
       "<matplotlib.figure.Figure at 0x2549c3a6b00>"
      ]
     },
     "metadata": {},
     "output_type": "display_data"
    },
    {
     "name": "stdout",
     "output_type": "stream",
     "text": [
      "X1 + X2 = Binomial(n1,p1)\n",
      "p1 0.4386248599666409\n",
      "n1 183.1587931566624\n",
      "X2 + X3 = Binomial(n2,p2)\n",
      "p2 0.5080238161763728\n",
      "n2 295.8877029257492\n"
     ]
    }
   ],
   "source": [
    "# Question 6\n",
    "\n",
    "import random\n",
    "import matplotlib.pyplot as plt\n",
    "import math\n",
    "import numpy as np\n",
    "\n",
    "n1,p1 = 100,0.3\n",
    "n2,p2 = 100,0.5\n",
    "n3,p3 = 200,0.5\n",
    "n = 500\n",
    "s1 = []\n",
    "s2 = []\n",
    "for i in range(n):\n",
    "    x1 = np.random.binomial(n1, p1)\n",
    "    x2 = np.random.binomial(n2, p2)\n",
    "    x3 = np.random.binomial(n3, p3)\n",
    "    s1.append(x1+x2)\n",
    "    s2.append(x2+x3)\n",
    "plt.hist(s1,range(50,200))\n",
    "plt.hist(s2,range(50,200))\n",
    "plt.show()\n",
    "m1 = np.mean(s1)\n",
    "v1 = np.var(s1)\n",
    "p1 = 1 - (v1 / m1)\n",
    "print(\"X1 + X2 = Binomial(n1,p1)\")\n",
    "print(\"p1\",p1)\n",
    "print(\"n1\",m1 / p1)\n",
    "m2 = np.mean(s2)\n",
    "v2 = np.var(s2)\n",
    "p2 = 1 - (v2 / m2)\n",
    "print(\"X2 + X3 = Binomial(n2,p2)\")\n",
    "print(\"p2\",p2)\n",
    "print(\"n2\",m2 / p2)"
   ]
  },
  {
   "cell_type": "code",
   "execution_count": null,
   "metadata": {},
   "outputs": [],
   "source": []
  }
 ],
 "metadata": {
  "kernelspec": {
   "display_name": "Python 3",
   "language": "python",
   "name": "python3"
  },
  "language_info": {
   "codemirror_mode": {
    "name": "ipython",
    "version": 3
   },
   "file_extension": ".py",
   "mimetype": "text/x-python",
   "name": "python",
   "nbconvert_exporter": "python",
   "pygments_lexer": "ipython3",
   "version": "3.6.4"
  }
 },
 "nbformat": 4,
 "nbformat_minor": 2
}
