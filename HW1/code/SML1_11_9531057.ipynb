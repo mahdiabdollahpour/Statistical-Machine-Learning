{
 "cells": [
  {
   "cell_type": "code",
   "execution_count": 1,
   "metadata": {},
   "outputs": [],
   "source": [
    "import random\n",
    "import matplotlib.pyplot as plt\n",
    "import math\n",
    "import numpy as np"
   ]
  },
  {
   "cell_type": "code",
   "execution_count": 32,
   "metadata": {},
   "outputs": [
    {
     "name": "stdout",
     "output_type": "stream",
     "text": [
      "X1 avg 0.004661219197629751\n",
      "X2 avg -0.003723325897208582\n",
      "[[1.01295404 0.51526447]\n",
      " [0.51526447 0.34443367]]\n",
      "COV(x1,x2) 0.5152644706577626\n"
     ]
    }
   ],
   "source": [
    "# Question 11\n",
    "n = 1000\n",
    "res1 = []\n",
    "res2 = []\n",
    "for i in range(n):\n",
    "    x = np.random.multivariate_normal([0,0],[[1,1/2],[1/2,1/3]]).T\n",
    "    res1.append(x[0])\n",
    "    res2.append(x[1])\n",
    "print(\"X1 avg\",np.mean(res1))\n",
    "print(\"X2 avg\",np.mean(res2))\n",
    "cov = np.cov([res1,res2])\n",
    "print(cov)\n",
    "print(\"COV(x1,x2)\",cov[0][1])"
   ]
  },
  {
   "cell_type": "code",
   "execution_count": null,
   "metadata": {},
   "outputs": [],
   "source": []
  },
  {
   "cell_type": "code",
   "execution_count": null,
   "metadata": {},
   "outputs": [],
   "source": []
  },
  {
   "cell_type": "code",
   "execution_count": null,
   "metadata": {},
   "outputs": [],
   "source": []
  }
 ],
 "metadata": {
  "kernelspec": {
   "display_name": "Python 3",
   "language": "python",
   "name": "python3"
  },
  "language_info": {
   "codemirror_mode": {
    "name": "ipython",
    "version": 3
   },
   "file_extension": ".py",
   "mimetype": "text/x-python",
   "name": "python",
   "nbconvert_exporter": "python",
   "pygments_lexer": "ipython3",
   "version": "3.6.4"
  }
 },
 "nbformat": 4,
 "nbformat_minor": 2
}
