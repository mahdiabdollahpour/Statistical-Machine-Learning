{
 "cells": [
  {
   "cell_type": "code",
   "execution_count": 8,
   "metadata": {},
   "outputs": [
    {
     "name": "stdout",
     "output_type": "stream",
     "text": [
      "Changing the door 0.675\n",
      "Not changing the door 0.348\n"
     ]
    }
   ],
   "source": [
    "# Question 6\n",
    "\n",
    "import random\n",
    "import matplotlib.pyplot as plt\n",
    "import math\n",
    "import numpy as np\n",
    "\n",
    "\n",
    "win = 0\n",
    "for i in range(1000):\n",
    "    doors = [1,2,3]\n",
    "    doors_ = [1,2,3]\n",
    "    prize = np.random.randint(1,4)\n",
    "    selection = np.random.randint(1,4)\n",
    "    doors.remove(prize)\n",
    "    if selection in doors:\n",
    "        doors.remove(selection)\n",
    "    doors_.remove(selection)\n",
    "    doors_.remove(doors[0])\n",
    "    selection = doors_[0]\n",
    "    if selection==prize:\n",
    "        win+=1\n",
    "print(\"Changing the door\",win/1000)\n",
    "\n",
    "win = 0\n",
    "for i in range(1000):\n",
    "    doors = [1,2,3]\n",
    "    prize = np.random.randint(1,4)\n",
    "    selection = np.random.randint(1,4)\n",
    "    if selection==prize:\n",
    "        win+=1\n",
    "\n",
    "print(\"Not changing the door\",win/1000)\n"
   ]
  },
  {
   "cell_type": "code",
   "execution_count": null,
   "metadata": {},
   "outputs": [],
   "source": []
  },
  {
   "cell_type": "code",
   "execution_count": null,
   "metadata": {},
   "outputs": [],
   "source": []
  }
 ],
 "metadata": {
  "kernelspec": {
   "display_name": "Python 3",
   "language": "python",
   "name": "python3"
  },
  "language_info": {
   "codemirror_mode": {
    "name": "ipython",
    "version": 3
   },
   "file_extension": ".py",
   "mimetype": "text/x-python",
   "name": "python",
   "nbconvert_exporter": "python",
   "pygments_lexer": "ipython3",
   "version": "3.6.4"
  }
 },
 "nbformat": 4,
 "nbformat_minor": 2
}
