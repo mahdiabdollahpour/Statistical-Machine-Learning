{
 "cells": [
  {
   "cell_type": "code",
   "execution_count": 1,
   "metadata": {},
   "outputs": [],
   "source": [
    "import random\n",
    "import matplotlib.pyplot as plt\n",
    "import math\n",
    "import numpy as np"
   ]
  },
  {
   "cell_type": "code",
   "execution_count": 19,
   "metadata": {
    "scrolled": true
   },
   "outputs": [
    {
     "name": "stdout",
     "output_type": "stream",
     "text": [
      "0.05\n",
      "0.025\n",
      "0.016666666666666666\n",
      "0.0125\n",
      "0.01\n",
      "0.008333333333333333\n",
      "0.007142857142857143\n",
      "0.00625\n",
      "0.005555555555555556\n",
      "0.005\n",
      "Ex 5.3 bound 0.0625\n",
      "Ex 5.6 bound 0.0006709252558050237\n"
     ]
    }
   ],
   "source": [
    "# Question 12\n",
    "\n",
    "n = 100\n",
    "eps = 0.2\n",
    "p = 0.3\n",
    "sample = []\n",
    "res = []\n",
    "samples = []\n",
    "for i in range(10):\n",
    "    for k in range(n):\n",
    "        x = np.random.binomial(1,p) # it is bernoulli\n",
    "        res.append(x)\n",
    "        xn = np.mean(res)\n",
    "        if abs(xn-p) > eps:\n",
    "            sample.append(1)\n",
    "        else:\n",
    "            sample.append(0)\n",
    "    samples.append(np.mean(sample))\n",
    "for s in samples:\n",
    "    print(s)\n",
    "print(\"Ex 5.3 bound\",1/(4*n*eps*eps))\n",
    "print(\"Ex 5.6 bound\",2 * math.exp(-2 * n * eps * eps))"
   ]
  },
  {
   "cell_type": "code",
   "execution_count": 22,
   "metadata": {},
   "outputs": [
    {
     "name": "stdout",
     "output_type": "stream",
     "text": [
      "0.06\n",
      "0.03\n",
      "0.02\n",
      "0.015\n",
      "0.012\n",
      "0.01\n",
      "0.008571428571428572\n",
      "0.0075\n",
      "0.006666666666666667\n",
      "0.006\n",
      "Ex 5.3 bound 0.0625\n",
      "Ex 5.6 bound 0.0006709252558050237\n"
     ]
    }
   ],
   "source": [
    "\n",
    "n = 100\n",
    "eps = 0.2\n",
    "p = 0.5\n",
    "sample = []\n",
    "res = []\n",
    "samples = []\n",
    "for i in range(10):\n",
    "    for k in range(n):\n",
    "        x = np.random.binomial(1,p) # it is bernoulli\n",
    "        res.append(x)\n",
    "        xn = np.mean(res)\n",
    "        if abs(xn-p) > eps:\n",
    "            sample.append(1)\n",
    "        else:\n",
    "            sample.append(0)\n",
    "    samples.append(np.mean(sample))\n",
    "for s in samples:\n",
    "    print(s)\n",
    "print(\"Ex 5.3 bound\",1/(4*n*eps*eps))\n",
    "print(\"Ex 5.6 bound\",2 * math.exp(-2 * n * eps * eps))"
   ]
  },
  {
   "cell_type": "code",
   "execution_count": null,
   "metadata": {},
   "outputs": [],
   "source": []
  }
 ],
 "metadata": {
  "kernelspec": {
   "display_name": "Python 3",
   "language": "python",
   "name": "python3"
  },
  "language_info": {
   "codemirror_mode": {
    "name": "ipython",
    "version": 3
   },
   "file_extension": ".py",
   "mimetype": "text/x-python",
   "name": "python",
   "nbconvert_exporter": "python",
   "pygments_lexer": "ipython3",
   "version": "3.6.4"
  }
 },
 "nbformat": 4,
 "nbformat_minor": 2
}
