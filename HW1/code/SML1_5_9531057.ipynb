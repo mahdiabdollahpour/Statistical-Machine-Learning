{
 "cells": [
  {
   "cell_type": "code",
   "execution_count": 2,
   "metadata": {},
   "outputs": [
    {
     "name": "stdout",
     "output_type": "stream",
     "text": [
      "a. 0.604\n",
      "b. 0.3756\n",
      "x: 29  c. 0.0535\n",
      "d. 0.1006\n",
      "e. 0.0998\n",
      "x: 31  f. 0.0577\n"
     ]
    }
   ],
   "source": [
    "# Question 5\n",
    "\n",
    "import random\n",
    "import matplotlib.pyplot as plt\n",
    "import math\n",
    "import numpy as np\n",
    "\n",
    "mu = 3\n",
    "sigma = 16\n",
    "n = 10000\n",
    "a = 0\n",
    "b = 0\n",
    "c = 0\n",
    "d = 0\n",
    "e = 0\n",
    "f = 0\n",
    "x1 = 29\n",
    "x2 = 31\n",
    "for i in range(n):\n",
    "    r = np.random.normal(mu, sigma)\n",
    "    if r < 7:\n",
    "        a+=1\n",
    "    if r < -2:\n",
    "        b+=1\n",
    "    if r > x1:\n",
    "        c+=1\n",
    "    if r >= -2 and r <= 2:\n",
    "        d+=1\n",
    "    if r >= 0 and r <= 4:\n",
    "        e+=1\n",
    "    if r >= x2 or r <= -1 * x2:\n",
    "        f+=1\n",
    "print(\"a.\" , a/n)\n",
    "print(\"b.\" , b/n)\n",
    "print(\"x:\",x1,\" c.\" , c/n)\n",
    "print(\"d.\" , d/n)\n",
    "print(\"e.\" , e/n)\n",
    "print(\"x:\",x2,\" f.\" , f/n)\n",
    "\n",
    "\n"
   ]
  },
  {
   "cell_type": "code",
   "execution_count": null,
   "metadata": {},
   "outputs": [],
   "source": []
  }
 ],
 "metadata": {
  "kernelspec": {
   "display_name": "Python 3",
   "language": "python",
   "name": "python3"
  },
  "language_info": {
   "codemirror_mode": {
    "name": "ipython",
    "version": 3
   },
   "file_extension": ".py",
   "mimetype": "text/x-python",
   "name": "python",
   "nbconvert_exporter": "python",
   "pygments_lexer": "ipython3",
   "version": "3.6.4"
  }
 },
 "nbformat": 4,
 "nbformat_minor": 2
}
