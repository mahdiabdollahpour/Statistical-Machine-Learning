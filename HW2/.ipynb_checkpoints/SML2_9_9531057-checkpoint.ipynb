{
 "cells": [
  {
   "cell_type": "code",
   "execution_count": 13,
   "metadata": {},
   "outputs": [
    {
     "name": "stdout",
     "output_type": "stream",
     "text": [
      "theta_hat -0.07130609590256017\n",
      "se: 0.10018298605515501\n",
      "95% confidence interval ( -0.2716720680128702 , 0.12905987620774984 )\n"
     ]
    }
   ],
   "source": [
    "import numpy as np\n",
    "\n",
    "\n",
    "old =  np.array([17649,12013,19979,21816,13850,9806,17208,29044])\n",
    "new =  np.array([16449,14614,17274,23798,12560,10157,16570,26325])\n",
    "placebo =  np.array([9243,9671,11792,13357,9055,6290,12412,18806])\n",
    "old_placebo = np.array([8406,2342,8187,8459,4795,3516,4796,10238])\n",
    "new_old = np.array([-1200,2601,-2705,1982,-1290,351,-638,-2719])\n",
    "\n",
    "# old_placebo = np.array(old) - np.array(placebo)\n",
    "# new_old = np.array(new) - np.array(old)\n",
    "\n",
    "theta = np.mean(new_old)/np.mean(old_placebo)\n",
    "\n",
    "print(\"theta_hat\",theta)\n",
    "bootstraps = []\n",
    "B = 100\n",
    "def boot(xs):\n",
    "    bootstrap = []\n",
    "    for i in range(len(xs)):\n",
    "        bootstrap.append(xs[np.random.randint(0,len(xs))])\n",
    "    return bootstrap\n",
    "\n",
    "for i in range(B):\n",
    "    y_boot = boot(new_old)\n",
    "    z_boot = boot(old_placebo)\n",
    "    bootstraps.append(np.mean(y_boot)/np.mean(z_boot))\n",
    "vboot = np.var(bootstraps)\n",
    "se = np.sqrt(vboot)\n",
    "\n",
    "print(\"se:\",se)\n",
    "a = theta + 2 * se\n",
    "b = theta - 2 *se\n",
    "print(\"95% confidence interval (\",b,\",\",a,\")\")"
   ]
  },
  {
   "cell_type": "code",
   "execution_count": null,
   "metadata": {},
   "outputs": [],
   "source": []
  }
 ],
 "metadata": {
  "kernelspec": {
   "display_name": "Python 3",
   "language": "python",
   "name": "python3"
  },
  "language_info": {
   "codemirror_mode": {
    "name": "ipython",
    "version": 3
   },
   "file_extension": ".py",
   "mimetype": "text/x-python",
   "name": "python",
   "nbconvert_exporter": "python",
   "pygments_lexer": "ipython3",
   "version": "3.6.4"
  }
 },
 "nbformat": 4,
 "nbformat_minor": 2
}
