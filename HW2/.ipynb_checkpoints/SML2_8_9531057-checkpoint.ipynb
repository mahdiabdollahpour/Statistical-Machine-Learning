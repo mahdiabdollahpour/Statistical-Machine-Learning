{
 "cells": [
  {
   "cell_type": "code",
   "execution_count": 1,
   "metadata": {},
   "outputs": [],
   "source": [
    "import numpy as np\n",
    "import numpy\n",
    "\n",
    "mean1 = [0, 0]\n",
    "cov1 = [[1, 0.5], [0.5, 1]]  \n",
    "\n",
    "mean2 = [2, 2]\n",
    "cov2 = [[1, 0.4], [0.4, 1]]  \n",
    "\n",
    "mean3 = [4, 1]\n",
    "cov3 = [[1, 0.3], [0.3, 1]] \n",
    "\n",
    "train = []\n",
    "test = []\n",
    "\n",
    "for i in range(50):\n",
    "    train.append(np.random.multivariate_normal(mean1,cov1))\n",
    "for i in range(50):\n",
    "    train.append(np.random.multivariate_normal(mean2,cov2))\n",
    "for i in range(50):\n",
    "    train.append(numpy.random.multivariate_normal(mean3,cov3))\n",
    "\n",
    "for i in range(50):\n",
    "    test.append(numpy.random.multivariate_normal(mean1,cov1))\n",
    "for i in range(50):\n",
    "    test.append(numpy.random.multivariate_normal(mean2,cov2))\n",
    "for i in range(50):\n",
    "    test.append(numpy.random.multivariate_normal(mean3,cov3))\n",
    "\n",
    "# print(train)\n",
    "# print(test)\n",
    "\n"
   ]
  },
  {
   "cell_type": "code",
   "execution_count": 2,
   "metadata": {},
   "outputs": [],
   "source": [
    "bin_nums = 6"
   ]
  },
  {
   "cell_type": "code",
   "execution_count": 3,
   "metadata": {},
   "outputs": [],
   "source": [
    "def get_indice(val,edges):\n",
    "    if val < edges[0]:\n",
    "        return -1\n",
    "    for i in range(len(edges)-1):\n",
    "        if val >= edges[i] and val <= edges[i+1]:\n",
    "            return i\n",
    "    return -1"
   ]
  },
  {
   "cell_type": "code",
   "execution_count": 4,
   "metadata": {},
   "outputs": [],
   "source": [
    "H1,x1,y1 = numpy.histogram2d([t[0] for t in train[:50]],[t[1] for t in train[:50]],bins=bin_nums)\n",
    "H2,x2,y2 = numpy.histogram2d([t[0] for t in train[50:100]],[t[1] for t in train[50:100]],bins=bin_nums)\n",
    "H3,x3,y3 = numpy.histogram2d([t[0] for t in train[100:]],[t[1] for t in train[100:]],bins=bin_nums)\n",
    "\n",
    "Hs = [H1,H2,H3]\n",
    "xs = [x1,x2,x3]\n",
    "ys = [y1,y2,y3]\n",
    "# print(H1)\n"
   ]
  },
  {
   "cell_type": "code",
   "execution_count": 5,
   "metadata": {},
   "outputs": [],
   "source": [
    "def get_label(test_record):\n",
    "    max_score = -1\n",
    "    max_label = 0\n",
    "    for j in range(3):\n",
    "        idx1 = get_indice(test_record[0],xs[j])\n",
    "        idx2 = get_indice(test_record[1],ys[j])\n",
    "        if idx1==-1 or idx2==-1:\n",
    "            score = 0\n",
    "        else:    \n",
    "            score = (Hs[j])[idx2][idx1]\n",
    "        if score >= max_score:\n",
    "#             print(score)\n",
    "            max_score = score\n",
    "            max_label = j+1\n",
    "    if max_label == 0:\n",
    "        max_label = np.random.randint(1,4)\n",
    "    return max_label"
   ]
  },
  {
   "cell_type": "code",
   "execution_count": 6,
   "metadata": {},
   "outputs": [
    {
     "name": "stdout",
     "output_type": "stream",
     "text": [
      "test accuracy 0.72\n"
     ]
    }
   ],
   "source": [
    "\n",
    "confmat = np.zeros((3,3))\n",
    "correctly = 0\n",
    "for i in range(50):\n",
    "    l = get_label(test[i])\n",
    "    confmat[l-1][0] +=1\n",
    "    if l == 1:\n",
    "        correctly+=1\n",
    "        \n",
    "# print('---------')\n",
    "for i in range(50,100):\n",
    "    l = get_label(test[i])\n",
    "    confmat[l-1][1] +=1\n",
    "#     print(max_label)\n",
    "    if l == 2:\n",
    "        correctly+=1\n",
    "# print('------------------')\n",
    "for i in range(100,150):\n",
    "    l = get_label(test[i])\n",
    "    confmat[l-1][2] +=1\n",
    "    if l == 3:\n",
    "        correctly+=1\n",
    "print(\"test accuracy\",correctly/150)"
   ]
  },
  {
   "cell_type": "code",
   "execution_count": 8,
   "metadata": {},
   "outputs": [
    {
     "name": "stdout",
     "output_type": "stream",
     "text": [
      "test confusion matrix\n",
      " [[31. 14.  0.]\n",
      " [ 9. 30.  3.]\n",
      " [10.  6. 47.]]\n"
     ]
    }
   ],
   "source": [
    "print(\"test confusion matrix\\n\",confmat)\n"
   ]
  },
  {
   "cell_type": "code",
   "execution_count": 9,
   "metadata": {},
   "outputs": [
    {
     "name": "stdout",
     "output_type": "stream",
     "text": [
      "train accuracy 0.78\n",
      "train confusion matrix\n",
      " [[33.  6.  1.]\n",
      " [10. 38.  3.]\n",
      " [ 7.  6. 46.]]\n"
     ]
    }
   ],
   "source": [
    "\n",
    "train_confmat = np.zeros((3,3))\n",
    "correctly = 0\n",
    "for i in range(50):\n",
    "    l = get_label(train[i])\n",
    "    train_confmat[l-1][0] +=1\n",
    "    if l == 1:\n",
    "        correctly+=1\n",
    "        \n",
    "# print('---------')\n",
    "for i in range(50,100):\n",
    "    l = get_label(train[i])\n",
    "    train_confmat[l-1][1] +=1\n",
    "#     print(max_label)\n",
    "    if l == 2:\n",
    "        correctly+=1\n",
    "# print('------------------')\n",
    "for i in range(100,150):\n",
    "    l = get_label(train[i])\n",
    "    train_confmat[l-1][2] +=1\n",
    "    if l == 3:\n",
    "        correctly+=1\n",
    "print(\"train accuracy\",correctly/150)\n",
    "print(\"train confusion matrix\\n\",train_confmat)"
   ]
  },
  {
   "cell_type": "code",
   "execution_count": null,
   "metadata": {},
   "outputs": [],
   "source": []
  }
 ],
 "metadata": {
  "kernelspec": {
   "display_name": "Python 3",
   "language": "python",
   "name": "python3"
  },
  "language_info": {
   "codemirror_mode": {
    "name": "ipython",
    "version": 3
   },
   "file_extension": ".py",
   "mimetype": "text/x-python",
   "name": "python",
   "nbconvert_exporter": "python",
   "pygments_lexer": "ipython3",
   "version": "3.6.4"
  }
 },
 "nbformat": 4,
 "nbformat_minor": 2
}
