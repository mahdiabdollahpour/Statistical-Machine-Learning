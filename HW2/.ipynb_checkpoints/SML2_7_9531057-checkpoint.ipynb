{
 "cells": [
  {
   "cell_type": "code",
   "execution_count": 7,
   "metadata": {},
   "outputs": [
    {
     "name": "stdout",
     "output_type": "stream",
     "text": [
      "Delta 0.022175\n",
      "97% confidence interval ( -0.013458074389523171 , 0.05780807438952317 )\n",
      "P-Value  0.17686214169208325\n"
     ]
    }
   ],
   "source": [
    "import numpy as np\n",
    "from scipy.stats import norm\n",
    "Twain =  [0.225,0.262,0.217,0.240,0.230, 0.229, 0.235, 0.217]\n",
    "\n",
    "Snodgrass = [0.209, 0.205, 0.196, 0.210, 0.202, 0.207, 0.224, 0.223 ,0.220 ,0.201]\n",
    "delta  = np.mean(Twain) - np.mean(Snodgrass)\n",
    "\n",
    "se = np.sqrt(np.var(Twain) + np.var(Snodgrass))\n",
    "\n",
    "a = delta + se * 2.17009\n",
    "b = delta - se * 2.17009\n",
    "print(\"Delta\",delta)\n",
    "print(\"97% confidence interval (\",b,\",\",a,\")\")\n",
    "W = delta/se\n",
    "p_value = 2 * norm.cdf(-1 * abs(W))\n",
    "print (\"P-Value \",p_value)\n"
   ]
  },
  {
   "cell_type": "code",
   "execution_count": 38,
   "metadata": {},
   "outputs": [
    {
     "name": "stdout",
     "output_type": "stream",
     "text": [
      "0.00062\n"
     ]
    }
   ],
   "source": [
    "import random\n",
    "tands = [0.225,0.262,0.217,0.240,0.230, 0.229, 0.235, 0.217,0.209, 0.205, 0.196, 0.210, 0.202, 0.207, 0.224, 0.223 ,0.220 ,0.201]\n",
    "tobs = T(tands)\n",
    "\n",
    "m = len(Twain)\n",
    "n = len(Snodgrass)\n",
    "\n",
    "\n",
    "vals = []\n",
    "def T(p):\n",
    "    return abs(np.mean(p[:m]) - np.mean(p[-n:]))\n",
    "\n",
    "# print(tobs)\n",
    "i = 0\n",
    "for i in range(100000):\n",
    "\n",
    "    random.shuffle(tands)\n",
    "    Tj = T(tands)\n",
    "    if Tj > tobs:\n",
    "        vals.append(1)\n",
    "#         print(Tj)\n",
    "    else:\n",
    "#         print(Tj)\n",
    "        vals.append(0)\n",
    "        \n",
    "p_value = np.mean(vals)\n",
    "\n",
    "print(p_value)\n",
    "\n"
   ]
  },
  {
   "cell_type": "code",
   "execution_count": null,
   "metadata": {},
   "outputs": [],
   "source": []
  }
 ],
 "metadata": {
  "kernelspec": {
   "display_name": "Python 3",
   "language": "python",
   "name": "python3"
  }
 },
 "nbformat": 4,
 "nbformat_minor": 2
}
