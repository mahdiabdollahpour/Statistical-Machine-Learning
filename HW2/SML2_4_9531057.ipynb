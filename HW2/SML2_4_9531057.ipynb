{
 "cells": [
  {
   "cell_type": "code",
   "execution_count": 23,
   "metadata": {},
   "outputs": [
    {
     "name": "stdout",
     "output_type": "stream",
     "text": [
      "vboot 334.4304125257564\n",
      "se 18.287438654053126\n",
      "95% confidence interval( 126.71868233894287 , 198.40544186283114 )\n"
     ]
    }
   ],
   "source": [
    "import numpy as np\n",
    "import itertools\n",
    "\n",
    "\n",
    "\n",
    "N = 100\n",
    "\n",
    "samps = []\n",
    "\n",
    "\n",
    "for i in range(N):\n",
    "    xi = np.random.normal(5,1)\n",
    "    samps.append(xi)\n",
    "\n",
    "def boot(xs):\n",
    "    bootstrap = []\n",
    "    for i in range(N):\n",
    "        bootstrap.append(xs[np.random.randint(0,N)])\n",
    "    return bootstrap\n",
    "B = 10\n",
    "def g(x):\n",
    "    return np.exp(np.mean(x))\n",
    "\n",
    "boot_samps = []\n",
    "for i in range(B):\n",
    "    X_stars = boot(samps)\n",
    "    boot_samps.append(X_stars)\n",
    "\n",
    "av = np.mean([g(s) for s in boot_samps]) \n",
    "vboot = (1/B) * np.sum([(g(s) - av) * (g(s) - av) for s in boot_samps])\n",
    "print('vboot',vboot)\n",
    "se = np.sqrt(vboot)\n",
    "print('se',se)\n",
    "# now the 95% conf interval\n",
    "a = av + 1.96 * se\n",
    "b = av - 1.96 * se\n",
    "\n",
    "print(\"95% confidence interval(\",b,\",\",a,\")\")"
   ]
  },
  {
   "cell_type": "code",
   "execution_count": 24,
   "metadata": {},
   "outputs": [
    {
     "data": {
      "image/png": "[encoded data removed]",
      "text/plain": [
       "<matplotlib.figure.Figure at 0x1b1b5f4e668>"
      ]
     },
     "metadata": {},
     "output_type": "display_data"
    }
   ],
   "source": [
    "import matplotlib.pyplot as plt\n",
    "\n",
    "rr = np.arange(0, 10, 0.1)\n",
    "\n",
    "def F_hat(x,samples):\n",
    "    hits = 0\n",
    "    for i in range(len(samples)):\n",
    "        if samples[i] <= x:\n",
    "            hits+=1\n",
    "    return hits/len(samples)\n",
    "\n",
    "\n",
    "plt.hist([g(s) for s in boot_samps],bins=10)\n",
    "\n",
    "\n",
    "plt.show()\n"
   ]
  },
  {
   "cell_type": "code",
   "execution_count": null,
   "metadata": {},
   "outputs": [],
   "source": []
  },
  {
   "cell_type": "code",
   "execution_count": null,
   "metadata": {},
   "outputs": [],
   "source": []
  }
 ],
 "metadata": {
  "kernelspec": {
   "display_name": "Python 3",
   "language": "python",
   "name": "python3"
  },
  "language_info": {
   "codemirror_mode": {
    "name": "ipython",
    "version": 3
   },
   "file_extension": ".py",
   "mimetype": "text/x-python",
   "name": "python",
   "nbconvert_exporter": "python",
   "pygments_lexer": "ipython3",
   "version": "3.6.4"
  }
 },
 "nbformat": 4,
 "nbformat_minor": 2
}
