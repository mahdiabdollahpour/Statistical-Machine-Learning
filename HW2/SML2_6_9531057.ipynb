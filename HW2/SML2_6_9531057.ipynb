{
 "cells": [
  {
   "cell_type": "code",
   "execution_count": 20,
   "metadata": {},
   "outputs": [
    {
     "name": "stdout",
     "output_type": "stream",
     "text": [
      "0.0637\n"
     ]
    }
   ],
   "source": [
    "import numpy as np\n",
    "import math\n",
    "m  = 10000\n",
    "reject = 0\n",
    "for i in range(m):\n",
    "    samps = []\n",
    "    for i in range(50):\n",
    "        samps.append(np.random.poisson(1))\n",
    "    landa = np.mean(samps)\n",
    "    se = math.sqrt(np.var(samps)) / math.sqrt(50)\n",
    "\n",
    "    W = (landa - 1)/se\n",
    "#     print(W)\n",
    "    if abs(W) > 1.96:\n",
    "        reject+=1\n",
    "print(reject/m)\n"
   ]
  },
  {
   "cell_type": "code",
   "execution_count": null,
   "metadata": {},
   "outputs": [],
   "source": []
  },
  {
   "cell_type": "code",
   "execution_count": null,
   "metadata": {},
   "outputs": [],
   "source": []
  }
 ],
 "metadata": {
  "kernelspec": {
   "display_name": "Python 3",
   "language": "python",
   "name": "python3"
  },
  "language_info": {
   "codemirror_mode": {
    "name": "ipython",
    "version": 3
   },
   "file_extension": ".py",
   "mimetype": "text/x-python",
   "name": "python",
   "nbconvert_exporter": "python",
   "pygments_lexer": "ipython3",
   "version": "3.6.4"
  }
 },
 "nbformat": 4,
 "nbformat_minor": 2
}
