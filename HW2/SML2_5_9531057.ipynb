{
 "cells": [
  {
   "cell_type": "code",
   "execution_count": 2,
   "metadata": {},
   "outputs": [
    {
     "data": {
      "text/plain": [
       "<matplotlib.figure.Figure at 0x1cdac684b70>"
      ]
     },
     "metadata": {},
     "output_type": "display_data"
    },
    {
     "data": {
      "text/plain": [
       "<matplotlib.figure.Figure at 0x1cdb3f66ba8>"
      ]
     },
     "metadata": {},
     "output_type": "display_data"
    }
   ],
   "source": [
    "import numpy as np\n",
    "import scipy.stats\n",
    "import math\n",
    "N=100\n",
    "samps = []\n",
    "for i in range(N):\n",
    "    samps.append(np.random.normal(5,1))\n",
    "\n",
    "    \n",
    "def posterior(xs,theta):\n",
    "    post = 1\n",
    "    for x in xs:\n",
    "        post*= scipy.stats.norm(theta, 1).pdf(x)\n",
    "        \n",
    "    return post \n",
    "import matplotlib.pyplot as plt\n",
    "\n",
    "\n",
    "rr = np.arange(4, 6, 0.1)\n",
    "def y(x,xs):\n",
    "    return np.array([posterior(xs,t) for t in x])\n",
    "post = y(rr,samps).astype(np.float)\n",
    "\n",
    "\n",
    "plt.plot(rr, post)\n",
    "\n",
    "\n",
    "\n",
    "plt.show()\n",
    "\n",
    "\n",
    "p = np.array([posterior(samps,s) for s in rr])\n",
    "p = p/(np.sum(p))\n",
    "\n",
    "simulated =[]\n",
    "for i in range(500):\n",
    "\n",
    "    xi = np.random.choice(rr, p=p)\n",
    "#     print(xi)\n",
    "    simulated.append(xi)\n",
    "sim = y(rr,simulated).astype(np.float)\n",
    "# print(sim)\n",
    "plt.plot(rr, sim)\n",
    "\n",
    "\n",
    "plt.show()\n",
    "\n"
   ]
  },
  {
   "cell_type": "code",
   "execution_count": 3,
   "metadata": {
    "scrolled": true
   },
   "outputs": [
    {
     "data": {
      "image/png": "[encoded data removed]",
      "text/plain": [
       "<matplotlib.figure.Figure at 0x1cdb36bc048>"
      ]
     },
     "metadata": {},
     "output_type": "display_data"
    }
   ],
   "source": [
    "N=100\n",
    "samps = []\n",
    "for i in range(N):\n",
    "    samps.append(np.random.normal(5,1))\n",
    "\n",
    "    \n",
    "def posterior(xs,theta):\n",
    "    post = 1\n",
    "    for x in xs:\n",
    "        post*= scipy.stats.norm(theta, 1).pdf(x)\n",
    "        \n",
    "    return post \n",
    "import matplotlib.pyplot as plt\n",
    "\n",
    "\n",
    "rr = np.arange(4, 6, 0.1)\n",
    "def y(x,xs):\n",
    "    return np.array([posterior(xs,t) for t in x])\n",
    "post = y(rr,samps).astype(np.float)\n",
    "\n",
    "\n",
    "plt.plot(np.exp(rr), post)\n",
    "\n",
    "\n",
    "\n",
    "plt.show()\n",
    "\n",
    "\n"
   ]
  },
  {
   "cell_type": "code",
   "execution_count": 4,
   "metadata": {},
   "outputs": [
    {
     "name": "stdout",
     "output_type": "stream",
     "text": [
      "97% confidence interval ( -61.88483753233056 , 76.84934247091029 )\n",
      "93% confidence interval ( -50.37453361005844 , 65.33903854863817 )\n"
     ]
    }
   ],
   "source": [
    "theta_samples = np.exp(rr)\n",
    "probs = [posterior(samps,t) for t in rr]\n",
    "probs = probs/np.sum(probs)\n",
    "theta =  np.mean([theta_samples[i] * probs[i] for i in range(len(probs))])\n",
    "# print(theta)\n",
    "V =  np.mean([(theta_samples[i]-theta)*(theta_samples[i]-theta) * probs[i] for i in range(len(probs))])\n",
    "\n",
    "se = np.sqrt(V)\n",
    "# print(se)\n",
    "a = theta + se * 2.17009\n",
    "b = theta - se * 2.17009\n",
    "print(\"97% confidence interval (\",b,\",\",a,\")\")\n",
    "\n",
    "\n",
    "a = theta + se * 1.81\n",
    "b = theta - se * 1.81\n",
    "print(\"93% confidence interval (\",b,\",\",a,\")\")"
   ]
  },
  {
   "cell_type": "code",
   "execution_count": null,
   "metadata": {},
   "outputs": [],
   "source": []
  },
  {
   "cell_type": "code",
   "execution_count": null,
   "metadata": {},
   "outputs": [],
   "source": []
  }
 ],
 "metadata": {
  "kernelspec": {
   "display_name": "Python 3",
   "language": "python",
   "name": "python3"
  },
  "language_info": {
   "codemirror_mode": {
    "name": "ipython",
    "version": 3
   },
   "file_extension": ".py",
   "mimetype": "text/x-python",
   "name": "python",
   "nbconvert_exporter": "python",
   "pygments_lexer": "ipython3",
   "version": "3.6.4"
  }
 },
 "nbformat": 4,
 "nbformat_minor": 2
}
