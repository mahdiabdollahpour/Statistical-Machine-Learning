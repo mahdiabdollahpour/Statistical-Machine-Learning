{
 "cells": [
  {
   "cell_type": "code",
   "execution_count": 14,
   "metadata": {},
   "outputs": [
    {
     "name": "stdout",
     "output_type": "stream",
     "text": [
      "Estimated Lambda 1.006595871904141\n",
      "97% confidence interval ( 0.9349665290299697 , 1.0782252147783125 )\n",
      "the interval contains the param 0.975 % of times\n"
     ]
    }
   ],
   "source": [
    "import numpy as np\n",
    "N = 1000\n",
    "samps = []\n",
    "for i in range(N):\n",
    "    \n",
    "    xi = np.random.exponential()\n",
    "    samps.append(xi)\n",
    "landa = N/(np.sum(samps))\n",
    "print(\"Estimated Lambda\",landa)\n",
    "\n",
    "\n",
    "X_bar = np.sum(samps) / N\n",
    "\n",
    "sigma = (1/N) * np.sum([(t - X_bar)*(t - X_bar) for t in samps])\n",
    "\n",
    "se = (1/np.sqrt(N)) * np.sqrt(sigma)\n",
    "a = landa + 2.17009 * se\n",
    "b = landa - 2.17009 * se\n",
    "print(\"97% confidence interval\",\"(\",b,\",\",a,\")\")\n",
    "\n",
    "hits = 0\n",
    "for j in range(1000):\n",
    "    NN = 1000\n",
    "    samps = []\n",
    "    for i in range(NN):\n",
    "\n",
    "        xi = np.random.exponential()\n",
    "        samps.append(xi)\n",
    "    landa = N/(np.sum(samps))\n",
    "\n",
    "#     X_bar = np.sum(samps) / N\n",
    "#     sigma = (1/N) * np.sum([(t - X_bar)*(t - X_bar) for t in samps])\n",
    "#     se = (1/np.sqrt(N)) * sigma\n",
    "    if landa <= a and landa >=b:\n",
    "        hits+=1\n",
    "print(\"the interval contains the param\",hits/1000,\"% of times\")\n",
    "\n",
    "\n",
    "\n"
   ]
  },
  {
   "cell_type": "code",
   "execution_count": null,
   "metadata": {},
   "outputs": [],
   "source": []
  },
  {
   "cell_type": "code",
   "execution_count": null,
   "metadata": {},
   "outputs": [],
   "source": []
  }
 ],
 "metadata": {
  "kernelspec": {
   "display_name": "Python 3",
   "language": "python",
   "name": "python3"
  },
  "language_info": {
   "codemirror_mode": {
    "name": "ipython",
    "version": 3
   },
   "file_extension": ".py",
   "mimetype": "text/x-python",
   "name": "python",
   "nbconvert_exporter": "python",
   "pygments_lexer": "ipython3",
   "version": "3.6.4"
  }
 },
 "nbformat": 4,
 "nbformat_minor": 2
}
