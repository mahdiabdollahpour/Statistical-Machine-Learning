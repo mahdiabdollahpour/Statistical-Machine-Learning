{
 "cells": [
  {
   "cell_type": "code",
   "execution_count": 5,
   "metadata": {},
   "outputs": [
    {
     "name": "stdout",
     "output_type": "stream",
     "text": [
      "Estimated lambda 1.0212193328795964\n"
     ]
    },
    {
     "data": {
      "image/png": "[encoded data removed]",
      "text/plain": [
       "<matplotlib.figure.Figure at 0x1fd9b5d7a90>"
      ]
     },
     "metadata": {},
     "output_type": "display_data"
    },
    {
     "name": "stdout",
     "output_type": "stream",
     "text": [
      "Plugin Estimators\n",
      "mean 0.989556249796454\n",
      "sigma 1.0241083502783939 the other way (defined in course book) 1.029267618952513\n",
      "skewness 2.1584672388251156\n"
     ]
    }
   ],
   "source": [
    "import numpy as np\n",
    "N = 100\n",
    "samps = []\n",
    "for i in range(N):\n",
    "    \n",
    "    xi = np.random.exponential()\n",
    "    samps.append(xi)\n",
    "landa = N/(np.sum(samps))\n",
    "print(\"Estimated lambda\",landa)\n",
    "def F_hat(x):\n",
    "    hits = 0\n",
    "    for i in range(N):\n",
    "        if samps[i] <= x:\n",
    "            hits+=1\n",
    "    return hits/N\n",
    "\n",
    "\n",
    "import matplotlib.pyplot as plt\n",
    "\n",
    "rr = np.arange(0, 10, 0.1)\n",
    "\n",
    "def y(x):\n",
    "    return np.array([F_hat(t) for t in x])\n",
    "\n",
    "plt.plot(rr, y(rr).astype(np.float))\n",
    "plt.show()\n",
    "\n",
    "X_bar = np.sum(samps) / N\n",
    "mean = X_bar\n",
    "\n",
    "print(\"Plugin Estimators\")\n",
    "print('mean',np.sqrt(mean))\n",
    "\n",
    "sigma2 = (1/N) * np.sum([(t - X_bar)*(t - X_bar) for t in samps])\n",
    "sigma2_another = (1/(N-1)) * np.sum([(t - X_bar)*(t - X_bar) for t in samps])\n",
    "print('sigma',np.sqrt(sigma2),\"the other way (defined in course book)\",np.sqrt(sigma2_another))\n",
    "se = (1/np.sqrt(N)) * np.sqrt(sigma2)\n",
    "skewness = ((1/N) * np.sum([(t - X_bar)*(t - X_bar)*(t - X_bar) for t in samps]))/(sigma2 * np.sqrt(sigma2))\n",
    "\n",
    "print('skewness',skewness)\n"
   ]
  },
  {
   "cell_type": "code",
   "execution_count": null,
   "metadata": {},
   "outputs": [],
   "source": []
  }
 ],
 "metadata": {
  "kernelspec": {
   "display_name": "Python 3",
   "language": "python",
   "name": "python3"
  },
  "language_info": {
   "codemirror_mode": {
    "name": "ipython",
    "version": 3
   },
   "file_extension": ".py",
   "mimetype": "text/x-python",
   "name": "python",
   "nbconvert_exporter": "python",
   "pygments_lexer": "ipython3",
   "version": "3.6.4"
  }
 },
 "nbformat": 4,
 "nbformat_minor": 2
}
